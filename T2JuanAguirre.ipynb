{
 "cells": [
  {
   "cell_type": "markdown",
   "metadata": {},
   "source": [
    "## Tarea 2 – Simulación matemática\n",
    "\n",
    "Todo comenzó en 1989, cuando Guido Van Rossum, un holandés experto en computación, se propuso un proyecto para navidad, quería crear su propio lenguaje de programación. Esto se debe a que le parecía a veces muy complejo, innecesario tener que escribir tantas líneas de código para representar cosas simples. Así que sus principios eran simples. Tenia que ser sencillo de leer, cada línea de código tendría un espacio en blanco con sangría, dejaría que los usuarios crearan sus propios paquetes, que podían estar a alcance de cualquiera, para que fuesen la base de nuevos programas, y, por último, debía tener un nombre único y misterioso y decidió nombrar lo como un grupo de comedia británico, Monty Python. \n",
    "\n",
    "Alrededor de 30 años después de este proyecto de navidad, Python es de los programas más buscados alrededor del mundo, superando en búsquedas en Google a Kim Kardashian. Mientras la mayoría de los lenguajes de programación se ha estancado o van a la baja, Python va cada vez agarrando más y más fuerza. Ni si quiera Guido Van Rossum pensaba que esto podría pasar. Él mismo se sorprende y dice que nunca pensó en crear un lenguaje de programación que fuese usado alrededor del mundo. Es así como nació el lenguaje de programación “Python”. Sencillo, simple y todo partió de una idea de alguien que quería hacer algo diferente. \n"
   ]
  },
  {
   "cell_type": "markdown",
   "metadata": {},
   "source": []
  }
 ],
 "metadata": {
  "kernelspec": {
   "display_name": "Python 3",
   "language": "python",
   "name": "python3"
  },
  "language_info": {
   "codemirror_mode": {
    "name": "ipython",
    "version": 3
   },
   "file_extension": ".py",
   "mimetype": "text/x-python",
   "name": "python",
   "nbconvert_exporter": "python",
   "pygments_lexer": "ipython3",
   "version": "3.7.3"
  }
 },
 "nbformat": 4,
 "nbformat_minor": 2
}
